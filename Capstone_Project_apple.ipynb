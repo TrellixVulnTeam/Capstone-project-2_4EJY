{
 "cells": [
  {
   "cell_type": "code",
   "execution_count": 1,
   "metadata": {
    "colab": {
     "base_uri": "https://localhost:8080/"
    },
    "id": "7Cs56u5OwRGk",
    "outputId": "b57b7389-f2c0-4faa-f6a0-05822965e9b8"
   },
   "outputs": [
    {
     "name": "stderr",
     "output_type": "stream",
     "text": [
      "<ipython-input-1-830c3a369e7a>:5: FutureWarning: The pandas.datetime class is deprecated and will be removed from pandas in a future version. Import from datetime module instead.\n",
      "  from pandas import datetime\n"
     ]
    }
   ],
   "source": [
    "import numpy as np \n",
    "import pandas as pd \n",
    "import matplotlib.pyplot as plt\n",
    "from pandas.plotting import lag_plot\n",
    "from pandas import datetime\n",
    "from statsmodels.tsa.arima_model import ARIMA\n",
    "from sklearn.metrics import mean_squared_error\n"
   ]
  },
  {
   "cell_type": "code",
   "execution_count": 2,
   "metadata": {
    "colab": {
     "base_uri": "https://localhost:8080/"
    },
    "id": "1icuZkCZXck3",
    "outputId": "836bf1a9-8a52-438c-de4c-c938d3c60682"
   },
   "outputs": [
    {
     "name": "stdout",
     "output_type": "stream",
     "text": [
      "Requirement already satisfied: statsmodels in c:\\programdata\\anaconda3\\lib\\site-packages (0.11.1)\n",
      "Requirement already satisfied: numpy>=1.14 in c:\\programdata\\anaconda3\\lib\\site-packages (from statsmodels) (1.18.5)\n",
      "Requirement already satisfied: scipy>=1.0 in c:\\programdata\\anaconda3\\lib\\site-packages (from statsmodels) (1.5.0)\n",
      "Requirement already satisfied: pandas>=0.21 in c:\\programdata\\anaconda3\\lib\\site-packages (from statsmodels) (1.0.5)\n",
      "Requirement already satisfied: patsy>=0.5 in c:\\programdata\\anaconda3\\lib\\site-packages (from statsmodels) (0.5.1)\n",
      "Requirement already satisfied: pytz>=2017.2 in c:\\programdata\\anaconda3\\lib\\site-packages (from pandas>=0.21->statsmodels) (2020.1)\n",
      "Requirement already satisfied: python-dateutil>=2.6.1 in c:\\programdata\\anaconda3\\lib\\site-packages (from pandas>=0.21->statsmodels) (2.8.1)\n",
      "Requirement already satisfied: six in c:\\programdata\\anaconda3\\lib\\site-packages (from patsy>=0.5->statsmodels) (1.15.0)\n"
     ]
    }
   ],
   "source": [
    "!pip install statsmodels "
   ]
  },
  {
   "cell_type": "code",
   "execution_count": 4,
   "metadata": {
    "colab": {
     "base_uri": "https://localhost:8080/",
     "height": 467
    },
    "id": "o9RL9_Pewb_n",
    "outputId": "32640030-8ae2-4bc7-acca-82e0e528aa79"
   },
   "outputs": [
    {
     "data": {
      "text/html": [
       "<div>\n",
       "<style scoped>\n",
       "    .dataframe tbody tr th:only-of-type {\n",
       "        vertical-align: middle;\n",
       "    }\n",
       "\n",
       "    .dataframe tbody tr th {\n",
       "        vertical-align: top;\n",
       "    }\n",
       "\n",
       "    .dataframe thead th {\n",
       "        text-align: right;\n",
       "    }\n",
       "</style>\n",
       "<table border=\"1\" class=\"dataframe\">\n",
       "  <thead>\n",
       "    <tr style=\"text-align: right;\">\n",
       "      <th></th>\n",
       "      <th>Date</th>\n",
       "      <th>Open</th>\n",
       "      <th>High</th>\n",
       "      <th>Low</th>\n",
       "      <th>Close</th>\n",
       "      <th>Adj Close</th>\n",
       "      <th>Volume</th>\n",
       "    </tr>\n",
       "  </thead>\n",
       "  <tbody>\n",
       "    <tr>\n",
       "      <th>0</th>\n",
       "      <td>2015-01-01</td>\n",
       "      <td>27.847500</td>\n",
       "      <td>30.000000</td>\n",
       "      <td>26.157499</td>\n",
       "      <td>29.290001</td>\n",
       "      <td>26.518263</td>\n",
       "      <td>5221053600</td>\n",
       "    </tr>\n",
       "    <tr>\n",
       "      <th>1</th>\n",
       "      <td>2015-02-01</td>\n",
       "      <td>29.512501</td>\n",
       "      <td>33.400002</td>\n",
       "      <td>29.020000</td>\n",
       "      <td>32.115002</td>\n",
       "      <td>29.075924</td>\n",
       "      <td>4546140800</td>\n",
       "    </tr>\n",
       "    <tr>\n",
       "      <th>2</th>\n",
       "      <td>2015-03-01</td>\n",
       "      <td>32.312500</td>\n",
       "      <td>32.570000</td>\n",
       "      <td>30.407499</td>\n",
       "      <td>31.107500</td>\n",
       "      <td>28.274921</td>\n",
       "      <td>4554568400</td>\n",
       "    </tr>\n",
       "    <tr>\n",
       "      <th>3</th>\n",
       "      <td>2015-04-01</td>\n",
       "      <td>31.205000</td>\n",
       "      <td>33.634998</td>\n",
       "      <td>30.775000</td>\n",
       "      <td>31.287500</td>\n",
       "      <td>28.438524</td>\n",
       "      <td>3984542000</td>\n",
       "    </tr>\n",
       "    <tr>\n",
       "      <th>4</th>\n",
       "      <td>2015-05-01</td>\n",
       "      <td>31.525000</td>\n",
       "      <td>33.242500</td>\n",
       "      <td>30.840000</td>\n",
       "      <td>32.570000</td>\n",
       "      <td>29.604240</td>\n",
       "      <td>3816608400</td>\n",
       "    </tr>\n",
       "    <tr>\n",
       "      <th>...</th>\n",
       "      <td>...</td>\n",
       "      <td>...</td>\n",
       "      <td>...</td>\n",
       "      <td>...</td>\n",
       "      <td>...</td>\n",
       "      <td>...</td>\n",
       "      <td>...</td>\n",
       "    </tr>\n",
       "    <tr>\n",
       "      <th>80</th>\n",
       "      <td>2021-09-01</td>\n",
       "      <td>152.830002</td>\n",
       "      <td>157.259995</td>\n",
       "      <td>141.270004</td>\n",
       "      <td>141.500000</td>\n",
       "      <td>141.293793</td>\n",
       "      <td>1797465800</td>\n",
       "    </tr>\n",
       "    <tr>\n",
       "      <th>81</th>\n",
       "      <td>2021-10-01</td>\n",
       "      <td>141.899994</td>\n",
       "      <td>153.169998</td>\n",
       "      <td>138.270004</td>\n",
       "      <td>149.800003</td>\n",
       "      <td>149.581696</td>\n",
       "      <td>1564866800</td>\n",
       "    </tr>\n",
       "    <tr>\n",
       "      <th>82</th>\n",
       "      <td>2021-11-01</td>\n",
       "      <td>148.990005</td>\n",
       "      <td>165.699997</td>\n",
       "      <td>147.479996</td>\n",
       "      <td>165.300003</td>\n",
       "      <td>165.059113</td>\n",
       "      <td>1690808300</td>\n",
       "    </tr>\n",
       "    <tr>\n",
       "      <th>83</th>\n",
       "      <td>2021-12-01</td>\n",
       "      <td>167.479996</td>\n",
       "      <td>182.130005</td>\n",
       "      <td>157.800003</td>\n",
       "      <td>171.139999</td>\n",
       "      <td>171.139999</td>\n",
       "      <td>1745082300</td>\n",
       "    </tr>\n",
       "    <tr>\n",
       "      <th>84</th>\n",
       "      <td>2021-12-17</td>\n",
       "      <td>169.929993</td>\n",
       "      <td>173.470001</td>\n",
       "      <td>169.690002</td>\n",
       "      <td>171.139999</td>\n",
       "      <td>171.139999</td>\n",
       "      <td>195923241</td>\n",
       "    </tr>\n",
       "  </tbody>\n",
       "</table>\n",
       "<p>85 rows × 7 columns</p>\n",
       "</div>"
      ],
      "text/plain": [
       "          Date        Open        High         Low       Close   Adj Close  \\\n",
       "0   2015-01-01   27.847500   30.000000   26.157499   29.290001   26.518263   \n",
       "1   2015-02-01   29.512501   33.400002   29.020000   32.115002   29.075924   \n",
       "2   2015-03-01   32.312500   32.570000   30.407499   31.107500   28.274921   \n",
       "3   2015-04-01   31.205000   33.634998   30.775000   31.287500   28.438524   \n",
       "4   2015-05-01   31.525000   33.242500   30.840000   32.570000   29.604240   \n",
       "..         ...         ...         ...         ...         ...         ...   \n",
       "80  2021-09-01  152.830002  157.259995  141.270004  141.500000  141.293793   \n",
       "81  2021-10-01  141.899994  153.169998  138.270004  149.800003  149.581696   \n",
       "82  2021-11-01  148.990005  165.699997  147.479996  165.300003  165.059113   \n",
       "83  2021-12-01  167.479996  182.130005  157.800003  171.139999  171.139999   \n",
       "84  2021-12-17  169.929993  173.470001  169.690002  171.139999  171.139999   \n",
       "\n",
       "        Volume  \n",
       "0   5221053600  \n",
       "1   4546140800  \n",
       "2   4554568400  \n",
       "3   3984542000  \n",
       "4   3816608400  \n",
       "..         ...  \n",
       "80  1797465800  \n",
       "81  1564866800  \n",
       "82  1690808300  \n",
       "83  1745082300  \n",
       "84   195923241  \n",
       "\n",
       "[85 rows x 7 columns]"
      ]
     },
     "execution_count": 4,
     "metadata": {},
     "output_type": "execute_result"
    }
   ],
   "source": [
    "import pandas as pd\n",
    "df=pd.read_csv(r\"F:\\sem 7\\project\\Capstone-project-2\\AAPL.csv\", sep=\",\")\n",
    "df"
   ]
  },
  {
   "cell_type": "code",
   "execution_count": 5,
   "metadata": {
    "colab": {
     "base_uri": "https://localhost:8080/",
     "height": 295
    },
    "id": "wyAUjN4I2i3w",
    "outputId": "e6bbf89e-99c2-4a2b-c73b-f2951e520dc5"
   },
   "outputs": [
    {
     "data": {
      "image/png": "[encoded data removed]",
      "text/plain": [
       "<Figure size 432x288 with 1 Axes>"
      ]
     },
     "metadata": {
      "needs_background": "light"
     },
     "output_type": "display_data"
    }
   ],
   "source": [
    "plt.figure()\n",
    "lag_plot(df['Open'])\n",
    "plt.title('Apple Stock - Autocorrelation plot with lag = 3')\n",
    "plt.show()\n"
   ]
  },
  {
   "cell_type": "code",
   "execution_count": 6,
   "metadata": {
    "colab": {
     "base_uri": "https://localhost:8080/",
     "height": 295
    },
    "id": "enCP-my020ct",
    "outputId": "e2ffa0a7-95d5-4958-ab8c-5c9c81eb1707"
   },
   "outputs": [
    {
     "data": {
      "image/png": "[encoded data removed]",
      "text/plain": [
       "<Figure size 432x288 with 1 Axes>"
      ]
     },
     "metadata": {
      "needs_background": "light"
     },
     "output_type": "display_data"
    }
   ],
   "source": [
    "plt.plot(df[\"Date\"], df[\"Close\"])\n",
    "#plt.xticks(np.arange(0,1259, 200), df['Date'][0:1259:200])\n",
    "plt.title(\"Apple stock price over time\")\n",
    "plt.xlabel(\"time\")\n",
    "plt.ylabel(\"price\")\n",
    "plt.show()"
   ]
  },
  {
   "cell_type": "code",
   "execution_count": 7,
   "metadata": {
    "colab": {
     "base_uri": "https://localhost:8080/"
    },
    "id": "LRxzEoMK3qCl",
    "outputId": "44197eed-bfcb-4867-83f6-4ac3df31a5c1"
   },
   "outputs": [
    {
     "name": "stdout",
     "output_type": "stream",
     "text": [
      "Testing Mean Squared Error is 97.34700626731917\n"
     ]
    }
   ],
   "source": [
    "train_data, test_data = df[0:int(len(df)*0.7)], df[int(len(df)*0.7):]\n",
    "training_data = train_data['Close'].values\n",
    "test_data = test_data['Close'].values\n",
    "history = [x for x in training_data]\n",
    "model_predictions = []\n",
    "N_test_observations = len(test_data)\n",
    "for time_point in range(N_test_observations):\n",
    "    model = ARIMA(history, order=(0,1,0))\n",
    "    model_fit = model.fit(disp=0)\n",
    "    fc,se,conf = model_fit.forecast()\n",
    "    output = model_fit.forecast()\n",
    "    yhat = output[0]\n",
    "    model_predictions.append(int(yhat))\n",
    "    true_test_value = test_data[time_point]\n",
    "    history.append(true_test_value)\n",
    "MSE_error = mean_squared_error(test_data, model_predictions)\n",
    "print('Testing Mean Squared Error is {}'.format(MSE_error))"
   ]
  },
  {
   "cell_type": "code",
   "execution_count": 8,
   "metadata": {
    "colab": {
     "base_uri": "https://localhost:8080/",
     "height": 295
    },
    "id": "Qvow-bqVT4ms",
    "outputId": "a53ed1ba-88b4-4120-e097-21df53c94b6c"
   },
   "outputs": [
    {
     "data": {
      "image/png": "[encoded data removed]",
      "text/plain": [
       "<Figure size 432x288 with 1 Axes>"
      ]
     },
     "metadata": {
      "needs_background": "light"
     },
     "output_type": "display_data"
    }
   ],
   "source": [
    "test_set_range = df[int(len(df)*0.7):].index\n",
    "plt.plot(test_set_range, model_predictions, color='blue', marker='o', linestyle='dashed',label='Predicted Price')\n",
    "plt.plot(test_set_range, test_data, color='red', label='Actual Price')\n",
    "plt.title('APPLE Prices Prediction')\n",
    "plt.xlabel('Date')\n",
    "plt.ylabel('Prices')\n",
    "plt.legend()\n",
    "plt.show()"
   ]
  },
  {
   "cell_type": "code",
   "execution_count": 9,
   "metadata": {
    "colab": {
     "base_uri": "https://localhost:8080/"
    },
    "id": "x5d8kMnyLG0s",
    "outputId": "c66c714b-250d-4f07-a09c-0a8d2cae49a6"
   },
   "outputs": [
    {
     "name": "stdout",
     "output_type": "stream",
     "text": [
      "(array([172.84903512]), array([6.0328747]), array([[161.02481799, 184.67325225]]))\n"
     ]
    }
   ],
   "source": [
    "print(output)"
   ]
  },
  {
   "cell_type": "code",
   "execution_count": 10,
   "metadata": {
    "colab": {
     "base_uri": "https://localhost:8080/"
    },
    "id": "lirlv6qZM33M",
    "outputId": "7891cf4d-3e1e-4894-db24-d50c53a87658"
   },
   "outputs": [
    {
     "name": "stdout",
     "output_type": "stream",
     "text": [
      "[67, 74, 78, 68, 64, 74, 80, 92, 107, 130, 117, 110, 120, 134, 133, 122, 123, 132, 125, 138, 147, 153, 142, 151, 166, 172]\n"
     ]
    }
   ],
   "source": [
    "print(model_predictions)"
   ]
  },
  {
   "cell_type": "code",
   "execution_count": 11,
   "metadata": {},
   "outputs": [],
   "source": [
    "import pickle"
   ]
  },
  {
   "cell_type": "code",
   "execution_count": 12,
   "metadata": {},
   "outputs": [],
   "source": [
    "with open(\"model_apple\", 'wb') as f:\n",
    "    pickle.dump(model,f)"
   ]
  },
  {
   "cell_type": "code",
   "execution_count": 15,
   "metadata": {},
   "outputs": [],
   "source": [
    "with open('model_apple', 'rb') as f:\n",
    "    mp = pickle.load(f)"
   ]
  },
  {
   "cell_type": "code",
   "execution_count": null,
   "metadata": {},
   "outputs": [],
   "source": []
  },
  {
   "cell_type": "markdown",
   "metadata": {
    "id": "hjlg29weE5eT"
   },
   "source": [
    "Pytesting"
   ]
  },
  {
   "cell_type": "code",
   "execution_count": 29,
   "metadata": {
    "colab": {
     "base_uri": "https://localhost:8080/"
    },
    "id": "ejd5ibcvZe2S",
    "outputId": "1cd16be6-b893-4cb9-a3ef-d330b85d80d5"
   },
   "outputs": [
    {
     "data": {
      "text/plain": [
       "171.139999"
      ]
     },
     "execution_count": 29,
     "metadata": {},
     "output_type": "execute_result"
    }
   ],
   "source": [
    "#last value of out dataset\n",
    "actual_value=df['Close'].iloc[-1]\n",
    "actual_value"
   ]
  },
  {
   "cell_type": "code",
   "execution_count": 69,
   "metadata": {
    "colab": {
     "base_uri": "https://localhost:8080/"
    },
    "id": "a2Pou8VXUoWV",
    "outputId": "6c8550af-8fea-4b78-ab01-092da4e1e484"
   },
   "outputs": [
    {
     "name": "stdout",
     "output_type": "stream",
     "text": [
      "None\n"
     ]
    }
   ],
   "source": [
    "#chcecking our prediction\n",
    "import pytest\n",
    "start= actual_value - 5\n",
    "end = actual_value + 5\n",
    "\n",
    "def check():\n",
    "  predict_value = model_predictions[-1]\n",
    "  return (predict_value)\n",
    "\n",
    "def test_pridict():\n",
    "  assert (check() >= start and check() <= end)\n",
    "\n",
    "print(test_pridict())"
   ]
  },
  {
   "cell_type": "markdown",
   "metadata": {
    "id": "rtjUiNGZQGg7"
   },
   "source": [
    "Acuuracy is **93 percent**"
   ]
  }
 ],
 "metadata": {
  "colab": {
   "name": "Capstone_Project.ipynb",
   "provenance": []
  },
  "kernelspec": {
   "display_name": "Python 3",
   "language": "python",
   "name": "python3"
  },
  "language_info": {
   "codemirror_mode": {
    "name": "ipython",
    "version": 3
   },
   "file_extension": ".py",
   "mimetype": "text/x-python",
   "name": "python",
   "nbconvert_exporter": "python",
   "pygments_lexer": "ipython3",
   "version": "3.8.3"
  }
 },
 "nbformat": 4,
 "nbformat_minor": 1
}
